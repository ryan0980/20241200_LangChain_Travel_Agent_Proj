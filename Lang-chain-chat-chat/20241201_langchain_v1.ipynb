{
 "cells": [
  {
   "cell_type": "code",
   "execution_count": 2,
   "metadata": {},
   "outputs": [
    {
     "name": "stderr",
     "output_type": "stream",
     "text": [
      "g:\\Code\\Python\\Lib\\importlib\\__init__.py:126: LangChainDeprecationWarning: As of langchain-core 0.3.0, LangChain uses pydantic v2 internally. The langchain_core.pydantic_v1 module was a compatibility shim for pydantic v1, and should no longer be used. Please update the code to import from Pydantic directly.\n",
      "\n",
      "For example, replace imports like: `from langchain_core.pydantic_v1 import BaseModel`\n",
      "with: `from pydantic import BaseModel`\n",
      "or the v1 compatibility namespace if you are working in a code base that has not been fully upgraded to pydantic 2 yet. \tfrom pydantic.v1 import BaseModel\n",
      "\n",
      "  return _bootstrap._gcd_import(name[level:], package, level)\n"
     ]
    }
   ],
   "source": [
    "from langchain.document_loaders import TextLoader\n",
    "from langchain.text_splitter import CharacterTextSplitter\n",
    "from langchain.embeddings import OpenAIEmbeddings\n",
    "from langchain.vectorstores import FAISS\n"
   ]
  },
  {
   "cell_type": "code",
   "execution_count": 3,
   "metadata": {},
   "outputs": [],
   "source": [
    "# pinecone:pcsk_5CLKXJ_2rLtN8LDmNfP9eZWynKKsiXEEXSmqcavP4xehcAnXXYw1GttocvtweX4pvoo1w7\n",
    "from pinecone import Pinecone, ServerlessSpec\n",
    "\n",
    "pc = Pinecone(api_key=\"pcsk_5CLKXJ_2rLtN8LDmNfP9eZWynKKsiXEEXSmqcavP4xehcAnXXYw1GttocvtweX4pvoo1w7\")"
   ]
  },
  {
   "cell_type": "markdown",
   "metadata": {},
   "source": [
    "1. 文档分割\n",
    "将大文档切分成小的、独立的块，以便更好地存储和检索。\n",
    "\n",
    "方法：\n",
    "固定长度分割：将文档按字符数、单词数或句子数切分。"
   ]
  },
  {
   "cell_type": "markdown",
   "metadata": {},
   "source": [
    "2. 向量化并存入向量数据库\n",
    "将分割后的文档块进行向量化，并存储到向量数据库中。\n",
    "\n"
   ]
  },
  {
   "cell_type": "markdown",
   "metadata": {},
   "source": [
    "3. 查询时增强检索\n",
    "利用输入查询，检索相关的文档块并作为上下文添加到 Prompt。"
   ]
  },
  {
   "cell_type": "markdown",
   "metadata": {},
   "source": [
    "4. 生成回答\n",
    "将上下文和查询组合，输入到语言模型中生成回答。"
   ]
  },
  {
   "cell_type": "code",
   "execution_count": 4,
   "metadata": {},
   "outputs": [
    {
     "name": "stdout",
     "output_type": "stream",
     "text": [
      "分割后的文档块:\n",
      "Chunk 1: page_content='https://travel.usnews.com/Washington_DC/Things_To_Do/\n",
      "\n",
      "\n",
      "U.S. News and World Report Logo\n",
      "Travel\n",
      "Home\n",
      "Vacations\n",
      "Travel Guides\n",
      "Tours and Attractions\n",
      "Hotels\n",
      "Cruises\n",
      "Rewards\n",
      "Advice\n",
      "\n",
      "Sign In\n",
      "\n",
      "Washington, D.C.USATravel Guides\n",
      "Washington, D.C. Travel Guide\n",
      "USA  \n",
      "#1 in Best Historical Cities to Visit in the USA\n",
      " Credit\n",
      "\n",
      "Overview\n",
      "Things to do\n",
      "Hotels\n",
      "Dining\n",
      "When to visit\n",
      "Getting around\n",
      "Map & Neighborhoods\n",
      "Photos\n",
      "31 Best Things To Do in Washington, D.C.\n",
      "\n",
      "By Erin Evans\n",
      "|\n",
      "Reviewed by Ann Henson\n",
      "|\n",
      "Last updated on Sep. 6, 2024\n",
      "Many of Washington, D.C.'s main attractions relate to its principal enterprise: politics. These include the White House and the U.S. Capitol, of course, as well as monuments and historic sites dedicated to notable historical figures. The capital is also a destination for museumgoers. The Smithsonian Institute operates more than 20 museums (most free to visit!), including the National Museum of African American History and Culture, the National Air and Space Museum and the National Museum of American History. It also runs the family-friendly National Zoo & Conservation Biology Institute.\n",
      "\n",
      "Beyond the traditional attractions, you'll find many nontouristy things to do. You can spend your morning perusing the city's farmers markets and your afternoon taking in the scenery from the National Mall before catching a show at The John F. Kennedy Center for the Performing Arts. The city also has lively nightlife scenes – check out the 9:30 Club, for instance. If you plan to visit in March or April, don't miss wandering along the Tidal Basin, where you'll find thousands of pink cherry blossoms, not to mention excellent weather for exploring the city's neighborhoods.\n",
      "\n",
      "For an effective way to take in the city’s highlights, consider one of D.C.'s various bus tours, some of which are of the hop-on, hop-off variety (and some of which use double-decker vehicles with open-top upper decks). Tour durations vary from as little as 90 minutes to full-day affairs.' metadata={'source': 'C:\\\\Users\\\\ryan0\\\\OneDrive\\\\Obsidian_Lib\\\\11_GWU\\\\13_24FA\\\\CSCI_6365_A_ML\\\\20241113_AML_Final_Proj\\\\data\\\\attraction_resource\\\\DC_attraction.txt'}\n",
      "--------------------------------------------------------------------------------\n"
     ]
    }
   ],
   "source": [
    "# Step 1: 文档加载\n",
    "# 文件路径\n",
    "txt_file_path = r'C:\\Users\\ryan0\\OneDrive\\Obsidian_Lib\\11_GWU\\13_24FA\\CSCI_6365_A_ML\\20241113_AML_Final_Proj\\data\\attraction_resource\\DC_attraction.txt'\n",
    "\n",
    "# 加载数据\n",
    "loader = TextLoader(file_path=txt_file_path, encoding=\"utf-8\")\n",
    "data = loader.load()\n",
    "\n",
    "# Step 2: 文本分割\n",
    "# 分割器：设置分割块的大小和重叠部分的大小\n",
    "text_splitter = CharacterTextSplitter(chunk_size=2000, chunk_overlap=200)\n",
    "split_data = text_splitter.split_documents(data)\n",
    "\n",
    "# 打印分割后的前 3 个数据块\n",
    "print(\"分割后的文档块:\")\n",
    "for i, chunk in enumerate(split_data[:1]):\n",
    "    print(f\"Chunk {i + 1}: {chunk}\")\n",
    "    print(\"-\" * 80)"
   ]
  },
  {
   "cell_type": "code",
   "execution_count": 5,
   "metadata": {},
   "outputs": [
    {
     "name": "stderr",
     "output_type": "stream",
     "text": [
      "C:\\Users\\ryan0\\AppData\\Local\\Temp\\ipykernel_38852\\1813339233.py:3: LangChainDeprecationWarning: The class `OpenAIEmbeddings` was deprecated in LangChain 0.0.9 and will be removed in 0.2.0. An updated version of the class exists in the :class:`~langchain-openai package and should be used instead. To use it run `pip install -U :class:`~langchain-openai` and import as `from :class:`~langchain_openai import OpenAIEmbeddings``.\n",
      "  embeddings = OpenAIEmbeddings(\n"
     ]
    },
    {
     "name": "stdout",
     "output_type": "stream",
     "text": [
      "向量存储已加载 29 个文档块\n"
     ]
    }
   ],
   "source": [
    "# Step 3: 初始化向量化模型\n",
    "# 使用 OpenAIEmbeddings，确保使用正确的导入路径和模型名称\n",
    "embeddings = OpenAIEmbeddings(\n",
    "    model=\"text-embedding-ada-002\"  # 当前推荐的嵌入模型\n",
    ")\n",
    "\n",
    "# Step 4: 构建向量存储\n",
    "# 将分割后的文档块存入 FAISS 向量数据库\n",
    "vectorstore = FAISS.from_documents(split_data, embedding=embeddings)\n",
    "\n",
    "# 验证向量存储中已加载的文档数量\n",
    "loaded_doc_count = len(vectorstore.docstore._dict)  # `_dict` 存储文档的内部结构\n",
    "print(f\"向量存储已加载 {loaded_doc_count} 个文档块\")"
   ]
  },
  {
   "cell_type": "code",
   "execution_count": 9,
   "metadata": {},
   "outputs": [
    {
     "ename": "AttributeError",
     "evalue": "init is no longer a top-level attribute of the pinecone package.\n\nPlease create an instance of the Pinecone class instead.\n\nExample:\n\n    import os\n    from pinecone import Pinecone, ServerlessSpec\n\n    pc = Pinecone(\n        api_key=os.environ.get(\"PINECONE_API_KEY\")\n    )\n\n    # Now do stuff\n    if 'my_index' not in pc.list_indexes().names():\n        pc.create_index(\n            name='my_index', \n            dimension=1536, \n            metric='euclidean',\n            spec=ServerlessSpec(\n                cloud='aws',\n                region='us-west-2'\n            )\n        )\n\n",
     "output_type": "error",
     "traceback": [
      "\u001b[1;31m---------------------------------------------------------------------------\u001b[0m",
      "\u001b[1;31mAttributeError\u001b[0m                            Traceback (most recent call last)",
      "Cell \u001b[1;32mIn[9], line 14\u001b[0m\n\u001b[0;32m     11\u001b[0m INDEX_NAME \u001b[38;5;241m=\u001b[39m os\u001b[38;5;241m.\u001b[39mgetenv(\u001b[38;5;124m\"\u001b[39m\u001b[38;5;124mPINECONE_INDEX_NAME\u001b[39m\u001b[38;5;124m\"\u001b[39m)\n\u001b[0;32m     13\u001b[0m \u001b[38;5;66;03m# 初始化 Pinecone\u001b[39;00m\n\u001b[1;32m---> 14\u001b[0m \u001b[43mpinecone\u001b[49m\u001b[38;5;241;43m.\u001b[39;49m\u001b[43minit\u001b[49m\u001b[43m(\u001b[49m\u001b[43mapi_key\u001b[49m\u001b[38;5;241;43m=\u001b[39;49m\u001b[43mAPI_KEY\u001b[49m\u001b[43m,\u001b[49m\u001b[43m \u001b[49m\u001b[43menvironment\u001b[49m\u001b[38;5;241;43m=\u001b[39;49m\u001b[43mENVIRONMENT\u001b[49m\u001b[43m)\u001b[49m\n\u001b[0;32m     16\u001b[0m \u001b[38;5;66;03m# 确保索引存在\u001b[39;00m\n\u001b[0;32m     17\u001b[0m \u001b[38;5;28;01mif\u001b[39;00m INDEX_NAME \u001b[38;5;129;01mnot\u001b[39;00m \u001b[38;5;129;01min\u001b[39;00m pinecone\u001b[38;5;241m.\u001b[39mlist_indexes():\n",
      "File \u001b[1;32mg:\\Code\\Python\\Lib\\site-packages\\pinecone\\deprecation_warnings.py:39\u001b[0m, in \u001b[0;36minit\u001b[1;34m(*args, **kwargs)\u001b[0m\n\u001b[0;32m     12\u001b[0m     example \u001b[38;5;241m=\u001b[39m \u001b[38;5;124m\"\"\"\u001b[39m\n\u001b[0;32m     13\u001b[0m \u001b[38;5;124m    import os\u001b[39m\n\u001b[0;32m     14\u001b[0m \u001b[38;5;124m    from pinecone import Pinecone, ServerlessSpec\u001b[39m\n\u001b[1;32m   (...)\u001b[0m\n\u001b[0;32m     30\u001b[0m \u001b[38;5;124m        )\u001b[39m\n\u001b[0;32m     31\u001b[0m \u001b[38;5;124m\"\"\"\u001b[39m\n\u001b[0;32m     32\u001b[0m     msg \u001b[38;5;241m=\u001b[39m \u001b[38;5;124mf\u001b[39m\u001b[38;5;124m\"\"\"\u001b[39m\u001b[38;5;124minit is no longer a top-level attribute of the pinecone package.\u001b[39m\n\u001b[0;32m     33\u001b[0m \n\u001b[0;32m     34\u001b[0m \u001b[38;5;124mPlease create an instance of the Pinecone class instead.\u001b[39m\n\u001b[1;32m   (...)\u001b[0m\n\u001b[0;32m     37\u001b[0m \u001b[38;5;132;01m{\u001b[39;00mexample\u001b[38;5;132;01m}\u001b[39;00m\n\u001b[0;32m     38\u001b[0m \u001b[38;5;124m\"\"\"\u001b[39m\n\u001b[1;32m---> 39\u001b[0m     \u001b[38;5;28;01mraise\u001b[39;00m \u001b[38;5;167;01mAttributeError\u001b[39;00m(msg)\n",
      "\u001b[1;31mAttributeError\u001b[0m: init is no longer a top-level attribute of the pinecone package.\n\nPlease create an instance of the Pinecone class instead.\n\nExample:\n\n    import os\n    from pinecone import Pinecone, ServerlessSpec\n\n    pc = Pinecone(\n        api_key=os.environ.get(\"PINECONE_API_KEY\")\n    )\n\n    # Now do stuff\n    if 'my_index' not in pc.list_indexes().names():\n        pc.create_index(\n            name='my_index', \n            dimension=1536, \n            metric='euclidean',\n            spec=ServerlessSpec(\n                cloud='aws',\n                region='us-west-2'\n            )\n        )\n\n"
     ]
    }
   ],
   "source": [
    "from dotenv import load_dotenv\n",
    "import os\n",
    "import pinecone\n",
    "\n",
    "# 加载 .env 文件\n",
    "load_dotenv(\"api_key.env\")\n",
    "\n",
    "# 获取 API 密钥和环境信息\n",
    "API_KEY = os.getenv(\"PINECONE_API_KEY\")\n",
    "ENVIRONMENT = 'us-east-1-aws'\n",
    "INDEX_NAME = os.getenv(\"PINECONE_INDEX_NAME\")\n",
    "\n",
    "# 初始化 Pinecone\n",
    "pinecone.init(api_key=API_KEY, environment=ENVIRONMENT)\n",
    "\n",
    "# 确保索引存在\n",
    "if INDEX_NAME not in pinecone.list_indexes():\n",
    "    pinecone.create_index(\n",
    "        name=INDEX_NAME,\n",
    "        dimension=1536,  # 嵌入模型的维度\n",
    "        metric=\"cosine\"\n",
    "    )\n",
    "index = pinecone.Index(INDEX_NAME)\n",
    "print(f\"Pinecone 索引 {INDEX_NAME} 已初始化。\")\n"
   ]
  }
 ],
 "metadata": {
  "kernelspec": {
   "display_name": "Python 3",
   "language": "python",
   "name": "python3"
  },
  "language_info": {
   "codemirror_mode": {
    "name": "ipython",
    "version": 3
   },
   "file_extension": ".py",
   "mimetype": "text/x-python",
   "name": "python",
   "nbconvert_exporter": "python",
   "pygments_lexer": "ipython3",
   "version": "3.11.5"
  }
 },
 "nbformat": 4,
 "nbformat_minor": 2
}
