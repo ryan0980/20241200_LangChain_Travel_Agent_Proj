{
 "cells": [
  {
   "cell_type": "code",
   "execution_count": 13,
   "metadata": {},
   "outputs": [],
   "source": [
    "from langchain.document_loaders import TextLoader\n",
    "from langchain.text_splitter import CharacterTextSplitter\n",
    "from langchain.embeddings import OpenAIEmbeddings\n",
    "from langchain.vectorstores import FAISS\n"
   ]
  },
  {
   "cell_type": "code",
   "execution_count": 14,
   "metadata": {},
   "outputs": [
    {
     "name": "stderr",
     "output_type": "stream",
     "text": [
      "g:\\Code\\Python\\Lib\\site-packages\\pinecone\\data\\index.py:1: TqdmWarning: IProgress not found. Please update jupyter and ipywidgets. See https://ipywidgets.readthedocs.io/en/stable/user_install.html\n",
      "  from tqdm.autonotebook import tqdm\n"
     ]
    }
   ],
   "source": [
    "# pinecone:pcsk_5CLKXJ_2rLtN8LDmNfP9eZWynKKsiXEEXSmqcavP4xehcAnXXYw1GttocvtweX4pvoo1w7\n",
    "from pinecone import Pinecone, ServerlessSpec\n",
    "\n",
    "pc = Pinecone(api_key=\"pcsk_5CLKXJ_2rLtN8LDmNfP9eZWynKKsiXEEXSmqcavP4xehcAnXXYw1GttocvtweX4pvoo1w7\")"
   ]
  },
  {
   "cell_type": "markdown",
   "metadata": {},
   "source": [
    "1. 文档分割\n",
    "将大文档切分成小的、独立的块，以便更好地存储和检索。\n",
    "\n",
    "方法：\n",
    "固定长度分割：将文档按字符数、单词数或句子数切分。"
   ]
  },
  {
   "cell_type": "markdown",
   "metadata": {},
   "source": [
    "2. 向量化并存入向量数据库\n",
    "将分割后的文档块进行向量化，并存储到向量数据库中。\n",
    "\n"
   ]
  },
  {
   "cell_type": "markdown",
   "metadata": {},
   "source": [
    "3. 查询时增强检索\n",
    "利用输入查询，检索相关的文档块并作为上下文添加到 Prompt。"
   ]
  },
  {
   "cell_type": "markdown",
   "metadata": {},
   "source": [
    "4. 生成回答\n",
    "将上下文和查询组合，输入到语言模型中生成回答。"
   ]
  },
  {
   "cell_type": "code",
   "execution_count": 15,
   "metadata": {},
   "outputs": [
    {
     "name": "stdout",
     "output_type": "stream",
     "text": [
      "分割后的文档块:\n",
      "Chunk 1: page_content='https://travel.usnews.com/Washington_DC/Things_To_Do/\n",
      "\n",
      "\n",
      "U.S. News and World Report Logo\n",
      "Travel\n",
      "Home\n",
      "Vacations\n",
      "Travel Guides\n",
      "Tours and Attractions\n",
      "Hotels\n",
      "Cruises\n",
      "Rewards\n",
      "Advice\n",
      "\n",
      "Sign In\n",
      "\n",
      "Washington, D.C.USATravel Guides\n",
      "Washington, D.C. Travel Guide\n",
      "USA  \n",
      "#1 in Best Historical Cities to Visit in the USA\n",
      " Credit\n",
      "\n",
      "Overview\n",
      "Things to do\n",
      "Hotels\n",
      "Dining\n",
      "When to visit\n",
      "Getting around\n",
      "Map & Neighborhoods\n",
      "Photos\n",
      "31 Best Things To Do in Washington, D.C.\n",
      "\n",
      "By Erin Evans\n",
      "|\n",
      "Reviewed by Ann Henson\n",
      "|\n",
      "Last updated on Sep. 6, 2024\n",
      "Many of Washington, D.C.'s main attractions relate to its principal enterprise: politics. These include the White House and the U.S. Capitol, of course, as well as monuments and historic sites dedicated to notable historical figures. The capital is also a destination for museumgoers. The Smithsonian Institute operates more than 20 museums (most free to visit!), including the National Museum of African American History and Culture, the National Air and Space Museum and the National Museum of American History. It also runs the family-friendly National Zoo & Conservation Biology Institute.\n",
      "\n",
      "Beyond the traditional attractions, you'll find many nontouristy things to do. You can spend your morning perusing the city's farmers markets and your afternoon taking in the scenery from the National Mall before catching a show at The John F. Kennedy Center for the Performing Arts. The city also has lively nightlife scenes – check out the 9:30 Club, for instance. If you plan to visit in March or April, don't miss wandering along the Tidal Basin, where you'll find thousands of pink cherry blossoms, not to mention excellent weather for exploring the city's neighborhoods.\n",
      "\n",
      "For an effective way to take in the city’s highlights, consider one of D.C.'s various bus tours, some of which are of the hop-on, hop-off variety (and some of which use double-decker vehicles with open-top upper decks). Tour durations vary from as little as 90 minutes to full-day affairs.' metadata={'source': 'C:\\\\Users\\\\ryan0\\\\OneDrive\\\\Obsidian_Lib\\\\11_GWU\\\\13_24FA\\\\CSCI_6365_A_ML\\\\20241113_AML_Final_Proj\\\\data\\\\attraction_resource\\\\DC_attraction.txt'}\n",
      "--------------------------------------------------------------------------------\n",
      "Chunk 2: page_content='This attractions guide was updated by Erin Evans, managing editor for the Travel section at U.S. News and a resident of the D.C. area for more than 10 years, in collaboration with U.S. News & World Report editors. Read U.S. News Insider Tips for first-hand advice on our favorite attractions.\n",
      "\n",
      "READ LESS\n",
      "How we rank Things to Do\n",
      "All Things To Do\n",
      "Free\n",
      "1-Day Itinerary\n",
      "2-Day Itinerary\n",
      "3-Day Itinerary\n",
      "View all Photos\n",
      "The Tidal Basin\n",
      "free\n",
      "#1 in Washington, D.C.0.5 miles to city center [SEE MAP]\n",
      "Find Tours & Tickets\n",
      "Free, Neighborhood/Area, Sightseeing\n",
      "TYPE\n",
      "1 to 2 hours\n",
      "TIME TO SPEND\n",
      "If you've never been to Washington, D.C. before, plan to spend some time along the Tidal Basin, an approximately 107-acre pond encircled by a 2.1-mile loop trail. Constructed to use the strong tides of the Potomac River to clear silt from the Washington Channel and to maintain steady water levels in the Lincoln Memorial Reflecting Pools, it now also serves as the backdrop to some of D.C.'s best-loved sites. Every spring, the Tidal Basin bursts with color as cherry blossom trees (gifted to the city from Tokyo) bloom into cotton candy-colored tufts, and they attract hordes of visitors. The cherry blossoms typically hit peak bloom (defined as when 70% of the cherry blossoms are open) in March or April. The National Park Service website makes \"bloom watch\" updates on its website, where you can check the progress of the trees and see when peak bloom is expected for the year. You can follow the path that leads around the basin, but recent visitors recommended testing the waters in a paddleboat. Paddleboats are available to rent from spring until fall for $28 to $40 per hour (depending on the day) for a four-passenger boat. You can pick up a paddle boat on weekdays from 10 a.m. to 5 p.m. and on weekends from 9 a.m. to 5 p.m. from the boat dock near Maine Avenue.' metadata={'source': 'C:\\\\Users\\\\ryan0\\\\OneDrive\\\\Obsidian_Lib\\\\11_GWU\\\\13_24FA\\\\CSCI_6365_A_ML\\\\20241113_AML_Final_Proj\\\\data\\\\attraction_resource\\\\DC_attraction.txt'}\n",
      "--------------------------------------------------------------------------------\n",
      "Chunk 3: page_content='Even if you don't make it to town for the cherry blossoms, you won't want to miss the three major memorials that can be found along the Tidal Basin's shores: the Thomas Jefferson Memorial, the Franklin Delano Roosevelt Memorial and the Martin Luther King Jr. Memorial. A memorial to Virginia Declaration of Rights author George Mason, also stands nearby.\n",
      "\n",
      "Full Profile\n",
      "View all Photos\n",
      "The White House and the Washington Monument\n",
      "free\n",
      "#2 in Washington, D.C.0.6 miles to city center [SEE MAP]\n",
      "Address: 1600 Pennsylvania Avenue NW\n",
      "Find Tours & Tickets\n",
      "Free, Monuments and Memorials, Sightseeing\n",
      "TYPE\n",
      "1 to 2 hours\n",
      "TIME TO SPEND\n",
      "Even if you're only in town for a short trip, visiting the Washington Monument and the White House – two marble symbols of the U.S. – is a must for any first-time D.C. visitor.\n",
      "\n",
      "Standing just shy of 555 ½ feet, the Washington Monument was the tallest structure in the world at its completion in 1884. Nowadays, you can ride one of the monument's glass-encased elevators to the top observation deck to enjoy 360-degree views of the city, which invariably impress visitors. You can explore the attraction's exterior for free 24 hours a day, but National Park Service rangers are only available from 9:30 a.m. to 10 p.m. to answer questions. The monument itself is open to visitors every day from 9 a.m. to 5 p.m. Free timed-entry tickets can be reserved up to 30 days in advance via Recreation.gov. (There is a $1 nonrefundable service charge for each ticket.) Some same-day tickets are distributed daily on a first-come, first served basis. The ticket window opens at 8:45 a.m.; be prepared for a line. The Smithsonian Metro stop is closest to the monument. Visit the National Park Service's Washington Monument page for more information.' metadata={'source': 'C:\\\\Users\\\\ryan0\\\\OneDrive\\\\Obsidian_Lib\\\\11_GWU\\\\13_24FA\\\\CSCI_6365_A_ML\\\\20241113_AML_Final_Proj\\\\data\\\\attraction_resource\\\\DC_attraction.txt'}\n",
      "--------------------------------------------------------------------------------\n"
     ]
    }
   ],
   "source": [
    "# Step 1: 文档加载\n",
    "# 文件路径\n",
    "txt_file_path = r'C:\\Users\\ryan0\\OneDrive\\Obsidian_Lib\\11_GWU\\13_24FA\\CSCI_6365_A_ML\\20241113_AML_Final_Proj\\data\\attraction_resource\\DC_attraction.txt'\n",
    "\n",
    "# 加载数据\n",
    "loader = TextLoader(file_path=txt_file_path, encoding=\"utf-8\")\n",
    "data = loader.load()\n",
    "\n",
    "# Step 2: 文本分割\n",
    "# 分割器：设置分割块的大小和重叠部分的大小\n",
    "text_splitter = CharacterTextSplitter(chunk_size=2000, chunk_overlap=200)\n",
    "split_data = text_splitter.split_documents(data)\n",
    "\n",
    "# 打印分割后的前 3 个数据块\n",
    "print(\"分割后的文档块:\")\n",
    "for i, chunk in enumerate(split_data[:3]):\n",
    "    print(f\"Chunk {i + 1}: {chunk}\")\n",
    "    print(\"-\" * 80)"
   ]
  },
  {
   "cell_type": "code",
   "execution_count": 16,
   "metadata": {},
   "outputs": [
    {
     "name": "stdout",
     "output_type": "stream",
     "text": [
      "向量存储已加载 29 个文档块\n"
     ]
    }
   ],
   "source": [
    "# Step 3: 初始化向量化模型\n",
    "# 使用 OpenAIEmbeddings，确保使用正确的导入路径和模型名称\n",
    "embeddings = OpenAIEmbeddings(\n",
    "    model=\"text-embedding-ada-002\"  # 当前推荐的嵌入模型\n",
    ")\n",
    "\n",
    "# Step 4: 构建向量存储\n",
    "# 将分割后的文档块存入 FAISS 向量数据库\n",
    "vectorstore = FAISS.from_documents(split_data, embedding=embeddings)\n",
    "\n",
    "# 验证向量存储中已加载的文档数量\n",
    "loaded_doc_count = len(vectorstore.docstore._dict)  # `_dict` 存储文档的内部结构\n",
    "print(f\"向量存储已加载 {loaded_doc_count} 个文档块\")"
   ]
  },
  {
   "cell_type": "code",
   "execution_count": 17,
   "metadata": {},
   "outputs": [],
   "source": [
    "index_name = \"quickstart\"\n",
    "\n",
    "pc.create_index(\n",
    "    name=index_name,\n",
    "    dimension=2, # Replace with your model dimensions\n",
    "    metric=\"cosine\", # Replace with your model metric\n",
    "    spec=ServerlessSpec(\n",
    "        cloud=\"aws\",\n",
    "        region=\"us-east-1\"\n",
    "    ) \n",
    ")"
   ]
  }
 ],
 "metadata": {
  "kernelspec": {
   "display_name": "Python 3",
   "language": "python",
   "name": "python3"
  },
  "language_info": {
   "codemirror_mode": {
    "name": "ipython",
    "version": 3
   },
   "file_extension": ".py",
   "mimetype": "text/x-python",
   "name": "python",
   "nbconvert_exporter": "python",
   "pygments_lexer": "ipython3",
   "version": "3.11.5"
  }
 },
 "nbformat": 4,
 "nbformat_minor": 2
}
